{
 "cells": [
  {
   "cell_type": "markdown",
   "metadata": {},
   "source": [
    "## Define network"
   ]
  },
  {
   "cell_type": "code",
   "execution_count": 44,
   "metadata": {},
   "outputs": [],
   "source": [
    "import torch\n",
    "from torch import nn\n",
    "from src.transformers import ViT\n",
    "\n",
    "torch.manual_seed(0)\n",
    "\n",
    "\n",
    "class Net(nn.Module):\n",
    "    def __init__(self, n_classes=10, embed_dim=8):\n",
    "        super(Net, self).__init__()\n",
    "\n",
    "        self.encoder = ViT(embed_dim=embed_dim, n_blocks=2, n_heads=4)\n",
    "        self.decoder = ViT(embed_dim=embed_dim,n_blocks=3, n_heads=4,\n",
    "                           img_shape=(1, 2, embed_dim), patch_size=2)\n",
    "        \n",
    "        self.mapper = nn.Linear(3, embed_dim)\n",
    "\n",
    "        self.mlp = nn.Sequential(\n",
    "            nn.Linear(embed_dim, 3),\n",
    "            nn.Sigmoid()\n",
    "        )\n",
    "\n",
    "    def forward(self, x, p):\n",
    "        b = x.shape[0]\n",
    "        x = self.encoder(x)\n",
    "        \n",
    "        p = self.mapper(p).view(b, 1, 1, -1)\n",
    "        x = x[:, 0, :].view(b, 1, 1, -1)\n",
    "        x = torch.cat((p,x), dim=2)\n",
    "\n",
    "        x = self.decoder(x)\n",
    "        x = self.mlp(x[:, 0, :])\n",
    "\n",
    "        return x"
   ]
  },
  {
   "cell_type": "markdown",
   "metadata": {},
   "source": [
    "## Define dataset anda dataloader"
   ]
  },
  {
   "cell_type": "code",
   "execution_count": 45,
   "metadata": {},
   "outputs": [],
   "source": [
    "from src.datasets import PolyMNIST\n",
    "from torch.utils.data import DataLoader\n",
    "from torchvision.transforms import ToTensor\n",
    "\n",
    "train = PolyMNIST(csv_file=\"mnist/train/polygon-mnist.csv\",\n",
    "                  transform=ToTensor())\n",
    "\n",
    "test = PolyMNIST(csv_file=\"mnist/test/polygon-mnist.csv\",\n",
    "                  transform=ToTensor())\n",
    "\n",
    "train_loader = DataLoader(train, batch_size=60, shuffle=True)\n",
    "test_loader = DataLoader(test, batch_size=60, shuffle=False)"
   ]
  },
  {
   "cell_type": "markdown",
   "metadata": {},
   "source": [
    "## Train"
   ]
  },
  {
   "cell_type": "code",
   "execution_count": 46,
   "metadata": {},
   "outputs": [
    {
     "name": "stdout",
     "output_type": "stream",
     "text": [
      "Using device:  cuda (Quadro M5000)\n"
     ]
    },
    {
     "data": {
      "application/vnd.jupyter.widget-view+json": {
       "model_id": "877f9f8ae00e4892ac143f9b6cf4cb90",
       "version_major": 2,
       "version_minor": 0
      },
      "text/plain": [
       "Training:   0%|          | 0/10 [00:00<?, ?it/s]"
      ]
     },
     "metadata": {},
     "output_type": "display_data"
    },
    {
     "data": {
      "application/vnd.jupyter.widget-view+json": {
       "model_id": "be1f3a6bd3c44fea967872fb8a5d73fd",
       "version_major": 2,
       "version_minor": 0
      },
      "text/plain": [
       "Epoch 1 in training:   0%|          | 0/1000 [00:00<?, ?it/s]"
      ]
     },
     "metadata": {},
     "output_type": "display_data"
    },
    {
     "name": "stdout",
     "output_type": "stream",
     "text": [
      "Epoch 1/10 loss: 0.27\n"
     ]
    },
    {
     "data": {
      "application/vnd.jupyter.widget-view+json": {
       "model_id": "8cdc5333905d48018aa013952ca4ddcd",
       "version_major": 2,
       "version_minor": 0
      },
      "text/plain": [
       "Epoch 2 in training:   0%|          | 0/1000 [00:00<?, ?it/s]"
      ]
     },
     "metadata": {},
     "output_type": "display_data"
    },
    {
     "name": "stdout",
     "output_type": "stream",
     "text": [
      "Epoch 2/10 loss: 0.12\n"
     ]
    },
    {
     "data": {
      "application/vnd.jupyter.widget-view+json": {
       "model_id": "8b012ce0c1544769adc3d9fffa13d191",
       "version_major": 2,
       "version_minor": 0
      },
      "text/plain": [
       "Epoch 3 in training:   0%|          | 0/1000 [00:00<?, ?it/s]"
      ]
     },
     "metadata": {},
     "output_type": "display_data"
    },
    {
     "name": "stdout",
     "output_type": "stream",
     "text": [
      "Epoch 3/10 loss: 0.11\n"
     ]
    },
    {
     "data": {
      "application/vnd.jupyter.widget-view+json": {
       "model_id": "13431fb69e9e4d44a87c84821c6560ca",
       "version_major": 2,
       "version_minor": 0
      },
      "text/plain": [
       "Epoch 4 in training:   0%|          | 0/1000 [00:00<?, ?it/s]"
      ]
     },
     "metadata": {},
     "output_type": "display_data"
    },
    {
     "name": "stdout",
     "output_type": "stream",
     "text": [
      "Epoch 4/10 loss: 0.10\n"
     ]
    },
    {
     "data": {
      "application/vnd.jupyter.widget-view+json": {
       "model_id": "f1297461b6564f87a1e3b40efce9d357",
       "version_major": 2,
       "version_minor": 0
      },
      "text/plain": [
       "Epoch 5 in training:   0%|          | 0/1000 [00:00<?, ?it/s]"
      ]
     },
     "metadata": {},
     "output_type": "display_data"
    },
    {
     "name": "stdout",
     "output_type": "stream",
     "text": [
      "Epoch 5/10 loss: 0.09\n"
     ]
    },
    {
     "data": {
      "application/vnd.jupyter.widget-view+json": {
       "model_id": "0ae3dad44d044148aa0d4188e7bfbab2",
       "version_major": 2,
       "version_minor": 0
      },
      "text/plain": [
       "Epoch 6 in training:   0%|          | 0/1000 [00:00<?, ?it/s]"
      ]
     },
     "metadata": {},
     "output_type": "display_data"
    },
    {
     "name": "stdout",
     "output_type": "stream",
     "text": [
      "Epoch 6/10 loss: 0.08\n"
     ]
    },
    {
     "data": {
      "application/vnd.jupyter.widget-view+json": {
       "model_id": "6d1d6f6c986b4806a560d3edc6f80a4b",
       "version_major": 2,
       "version_minor": 0
      },
      "text/plain": [
       "Epoch 7 in training:   0%|          | 0/1000 [00:00<?, ?it/s]"
      ]
     },
     "metadata": {},
     "output_type": "display_data"
    },
    {
     "name": "stdout",
     "output_type": "stream",
     "text": [
      "Epoch 7/10 loss: 0.08\n"
     ]
    },
    {
     "data": {
      "application/vnd.jupyter.widget-view+json": {
       "model_id": "3ef7fcea7251420da1f6b9aa19345608",
       "version_major": 2,
       "version_minor": 0
      },
      "text/plain": [
       "Epoch 8 in training:   0%|          | 0/1000 [00:00<?, ?it/s]"
      ]
     },
     "metadata": {},
     "output_type": "display_data"
    },
    {
     "name": "stdout",
     "output_type": "stream",
     "text": [
      "Epoch 8/10 loss: 0.07\n"
     ]
    },
    {
     "data": {
      "application/vnd.jupyter.widget-view+json": {
       "model_id": "c1bd107c31d2400aabd17b8d750f297c",
       "version_major": 2,
       "version_minor": 0
      },
      "text/plain": [
       "Epoch 9 in training:   0%|          | 0/1000 [00:00<?, ?it/s]"
      ]
     },
     "metadata": {},
     "output_type": "display_data"
    },
    {
     "name": "stdout",
     "output_type": "stream",
     "text": [
      "Epoch 9/10 loss: 0.07\n"
     ]
    },
    {
     "data": {
      "application/vnd.jupyter.widget-view+json": {
       "model_id": "60f3d5caba7f4fd09e55fce95bc82d6b",
       "version_major": 2,
       "version_minor": 0
      },
      "text/plain": [
       "Epoch 10 in training:   0%|          | 0/1000 [00:00<?, ?it/s]"
      ]
     },
     "metadata": {},
     "output_type": "display_data"
    },
    {
     "name": "stdout",
     "output_type": "stream",
     "text": [
      "Epoch 10/10 loss: 0.07\n"
     ]
    }
   ],
   "source": [
    "from torch.optim import Adam\n",
    "from torch.nn import MSELoss\n",
    "from tqdm.notebook import trange, tqdm\n",
    "\n",
    "N_EPOCHS = 10\n",
    "LR = 0.001\n",
    "\n",
    "device = torch.device(\"cuda\" if torch.cuda.is_available() else \"cpu\")\n",
    "device_name = torch.cuda.get_device_name(\n",
    "    device) if torch.cuda.is_available() else \"cpu\"\n",
    "print(\"Using device: \", device, f\"({device_name})\")\n",
    "\n",
    "model = Net().to(device)\n",
    "optimizer = Adam(model.parameters(), lr=LR)\n",
    "criterion = MSELoss()\n",
    "\n",
    "model.train()\n",
    "train_loss = 0.0\n",
    "for epoch in trange(N_EPOCHS, desc=\"Training\"):\n",
    "\n",
    "    desc = f\"Epoch {epoch + 1} in training\"\n",
    "\n",
    "    train_loss = 0.0\n",
    "\n",
    "    for batch in tqdm(train_loader, desc=desc, leave=False):\n",
    "        image, _, polygon = batch\n",
    "\n",
    "        image = image.to(device)\n",
    "        polygon = polygon.to(device)\n",
    "        \n",
    "        # That's lame\n",
    "        # I urge to learn how to do masking in the attention and use it\n",
    "        # At least the loss is decreasing\n",
    "        loss = None\n",
    "        for i in range(11):\n",
    "            pred = model(image, polygon[:, i, :])\n",
    "\n",
    "            if (loss is None):\n",
    "                loss = criterion(pred, polygon[:, (i + 1), :])\n",
    "            else:\n",
    "                loss += criterion(pred, polygon[:, (i + 1), :])\n",
    "\n",
    "        loss.backward()\n",
    "        optimizer.step()\n",
    "        optimizer.zero_grad()\n",
    "\n",
    "        train_loss += loss.item() / len(train_loader)\n",
    "\n",
    "    print(f\"Epoch {epoch + 1}/{N_EPOCHS} loss: {train_loss:.2f}\")"
   ]
  },
  {
   "cell_type": "code",
   "execution_count": 47,
   "metadata": {},
   "outputs": [
    {
     "data": {
      "application/vnd.jupyter.widget-view+json": {
       "model_id": "d6f2ab24f7644e58a20a7677922598dc",
       "version_major": 2,
       "version_minor": 0
      },
      "text/plain": [
       "Testing:   0%|          | 0/167 [00:00<?, ?it/s]"
      ]
     },
     "metadata": {},
     "output_type": "display_data"
    },
    {
     "name": "stdout",
     "output_type": "stream",
     "text": [
      "Test loss: 0.07\n"
     ]
    }
   ],
   "source": [
    "with torch.no_grad():\n",
    "    correct, total = 0, 0\n",
    "    test_loss = 0.0\n",
    "    for batch in tqdm(test_loader, desc=\"Testing\"):\n",
    "        x, _, p = batch\n",
    "        x, p = x.to(device), p.to(device)\n",
    "        \n",
    "        loss = None\n",
    "        for i in range(11):\n",
    "            pred = model(x, p[:, i, :])\n",
    "\n",
    "            if loss is None:\n",
    "                 loss = criterion(pred, p[:, (i + 1), :])\n",
    "            else:\n",
    "                loss += criterion(pred, p[:, (i + 1), :])\n",
    "\n",
    "        test_loss += loss.detach().cpu().item() / len(test_loader)\n",
    "\n",
    "        # correct += torch.sum(torch.argmax(y_hat, dim=1)\n",
    "        #                      == y).detach().cpu().item()\n",
    "        total += len(x)\n",
    "    print(f\"Test loss: {test_loss:.2f}\")\n",
    "    # print(f\"Test accuracy: {correct / total * 100:.2f}%\")"
   ]
  },
  {
   "cell_type": "code",
   "execution_count": 51,
   "metadata": {},
   "outputs": [
    {
     "name": "stderr",
     "output_type": "stream",
     "text": [
      "Clipping input data to the valid range for imshow with RGB data ([0..1] for floats or [0..255] for integers).\n"
     ]
    },
    {
     "data": {
      "text/plain": [
       "<matplotlib.image.AxesImage at 0x73f83b16dc90>"
      ]
     },
     "execution_count": 51,
     "metadata": {},
     "output_type": "execute_result"
    },
    {
     "data": {
      "image/png": "[encoded data removed]",
      "text/plain": [
       "<Figure size 640x480 with 1 Axes>"
      ]
     },
     "metadata": {},
     "output_type": "display_data"
    }
   ],
   "source": [
    "import matplotlib.pyplot as plt\n",
    "import numpy as np\n",
    "import cv2\n",
    "%matplotlib inline\n",
    "\n",
    "batch_images, _, poly = next(iter(test_loader))\n",
    "idx = 0\n",
    "\n",
    "img = batch_images[idx].numpy()[0] * 255\n",
    "img = img.astype(np.uint8)\n",
    "\n",
    "\n",
    "np_out = np.zeros((28,28, 3))\n",
    "np_out[:,:, 1] = np.copy(img)\n",
    "\n",
    "pts = poly[idx].numpy()#.reshape((-1, 3))\n",
    "pts = np.delete(pts, 0, 1).reshape(-1, 1, 2) * 28\n",
    "pts = pts[1:7].astype(np.int32)\n",
    "image = cv2.polylines(np_out, [pts], True, (255,0,0), 1)\n",
    "\n",
    "plt.title(\"original\")\n",
    "plt.imshow(image)"
   ]
  },
  {
   "cell_type": "code",
   "execution_count": 52,
   "metadata": {},
   "outputs": [
    {
     "name": "stderr",
     "output_type": "stream",
     "text": [
      "Clipping input data to the valid range for imshow with RGB data ([0..1] for floats or [0..255] for integers).\n"
     ]
    },
    {
     "name": "stdout",
     "output_type": "stream",
     "text": [
      "tensor([0.1206, 0.2386, 0.3707, 0.4900, 0.6022, 0.7185, 0.8437],\n",
      "       device='cuda:0')\n"
     ]
    },
    {
     "data": {
      "image/png": "[encoded data removed]",
      "text/plain": [
       "<Figure size 640x480 with 1 Axes>"
      ]
     },
     "metadata": {},
     "output_type": "display_data"
    }
   ],
   "source": [
    "with torch.no_grad():\n",
    "    inputs = torch.zeros(1, 3).to(device)\n",
    "    image = batch_images[idx].reshape(1, 1, 28, 28).to(device)\n",
    "\n",
    "    poly = []\n",
    "    for i in range(10):\n",
    "        pred = model(image, inputs)\n",
    "\n",
    "        if (pred[0][0] > 0.95):\n",
    "            break\n",
    "        poly.append(pred)\n",
    "        inputs = pred\n",
    "    poly = torch.cat(poly)\n",
    "\n",
    "    np_out = np.zeros((28,28, 3))\n",
    "    np_out[:,:, 1] = np.copy(img)\n",
    "    \n",
    "    print(poly[:, 0])\n",
    "    pts = poly.to('cpu').numpy() * 28\n",
    "    pts = np.delete(pts, 0, 1).reshape(-1, 1, 2)\n",
    "    pts = pts.astype(np.int32)\n",
    "    image = cv2.polylines(np_out, [pts], True, (255,0,0), 1)\n",
    "    \n",
    "    plt.title(\"prediction\")\n",
    "    plt.imshow(image)"
   ]
  },
  {
   "cell_type": "markdown",
   "metadata": {},
   "source": [
    "## Save"
   ]
  },
  {
   "cell_type": "code",
   "execution_count": 53,
   "metadata": {},
   "outputs": [],
   "source": [
    "path = \"checkpoints/polygon_003.pth\"\n",
    "torch.save(model.state_dict(), path)"
   ]
  }
 ],
 "metadata": {
  "kernelspec": {
   "display_name": ".venv",
   "language": "python",
   "name": "python3"
  },
  "language_info": {
   "codemirror_mode": {
    "name": "ipython",
    "version": 3
   },
   "file_extension": ".py",
   "mimetype": "text/x-python",
   "name": "python",
   "nbconvert_exporter": "python",
   "pygments_lexer": "ipython3",
   "version": "3.10.12"
  }
 },
 "nbformat": 4,
 "nbformat_minor": 2
}
