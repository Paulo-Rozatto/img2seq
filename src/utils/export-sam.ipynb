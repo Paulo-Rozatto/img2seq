{
 "cells": [
  {
   "cell_type": "code",
   "execution_count": 1,
   "metadata": {},
   "outputs": [],
   "source": [
    "import onnxruntime as ort\n",
    "import numpy as np\n",
    "import cv2\n",
    "\n",
    "path=\"/media/paulo/b0f89c99-3dc8-428a-877d-75f05b66d7f8/home/paulo/fine-tune/out/\""
   ]
  },
  {
   "cell_type": "code",
   "execution_count": 24,
   "metadata": {},
   "outputs": [
    {
     "name": "stdout",
     "output_type": "stream",
     "text": [
      "/home/paulo/Desktop/ic/img2seq/.venv/lib/python3.10/site-packages/samexporter/mobile_encoder/tiny_vit_sam.py:795: UserWarning: Overwriting tiny_vit_5m_224 in registry with samexporter.mobile_encoder.tiny_vit_sam.tiny_vit_5m_224. This is because the name being registered conflicts with an existing name. Please check if this is not expected.\n",
      "  return register_model(fn_wrapper)\n",
      "/home/paulo/Desktop/ic/img2seq/.venv/lib/python3.10/site-packages/samexporter/mobile_encoder/tiny_vit_sam.py:795: UserWarning: Overwriting tiny_vit_11m_224 in registry with samexporter.mobile_encoder.tiny_vit_sam.tiny_vit_11m_224. This is because the name being registered conflicts with an existing name. Please check if this is not expected.\n",
      "  return register_model(fn_wrapper)\n",
      "/home/paulo/Desktop/ic/img2seq/.venv/lib/python3.10/site-packages/samexporter/mobile_encoder/tiny_vit_sam.py:795: UserWarning: Overwriting tiny_vit_21m_224 in registry with samexporter.mobile_encoder.tiny_vit_sam.tiny_vit_21m_224. This is because the name being registered conflicts with an existing name. Please check if this is not expected.\n",
      "  return register_model(fn_wrapper)\n",
      "/home/paulo/Desktop/ic/img2seq/.venv/lib/python3.10/site-packages/samexporter/mobile_encoder/tiny_vit_sam.py:795: UserWarning: Overwriting tiny_vit_21m_384 in registry with samexporter.mobile_encoder.tiny_vit_sam.tiny_vit_21m_384. This is because the name being registered conflicts with an existing name. Please check if this is not expected.\n",
      "  return register_model(fn_wrapper)\n",
      "/home/paulo/Desktop/ic/img2seq/.venv/lib/python3.10/site-packages/samexporter/mobile_encoder/tiny_vit_sam.py:795: UserWarning: Overwriting tiny_vit_21m_512 in registry with samexporter.mobile_encoder.tiny_vit_sam.tiny_vit_21m_512. This is because the name being registered conflicts with an existing name. Please check if this is not expected.\n",
      "  return register_model(fn_wrapper)\n",
      "Loading model...\n",
      "Exporting onnx model to ../../checkpoints/sam_vit_b_preprocess.onnx...\n"
     ]
    }
   ],
   "source": [
    "!python -m samexporter.export_encoder --checkpoint ../../checkpoints/sam_vit_b_01ec64.pth \\\n",
    "    --output ../../checkpoints/sam_vit_b_preprocess.onnx \\\n",
    "    --model-type vit_b \\\n",
    "    --use-preprocess"
   ]
  },
  {
   "cell_type": "code",
   "execution_count": 71,
   "metadata": {},
   "outputs": [],
   "source": [
    "ort_sess = ort.InferenceSession(\n",
    "    '../../checkpoints/sam_vit_b_preprocess.onnx',\n",
    ")"
   ]
  },
  {
   "cell_type": "code",
   "execution_count": 74,
   "metadata": {},
   "outputs": [],
   "source": [
    "from os import mkdir\n",
    "from os.path import join, exists, basename\n",
    "from glob import glob\n",
    "\n",
    "dataset_path  = \"/media/paulo/b0f89c99-3dc8-428a-877d-75f05b66d7f8/home/paulo/fine-tune/poly-bean/\"\n",
    "test_path = join(dataset_path, \"test\")\n",
    "train_path = join(dataset_path, \"train\")"
   ]
  },
  {
   "cell_type": "code",
   "execution_count": null,
   "metadata": {},
   "outputs": [],
   "source": [
    "for dir in [test_path, train_path]:\n",
    "    images_path = glob(join(dir, \"images\", \"*.jpg\"))\n",
    "    embeddings_path = join(dir, \"embeddings\")\n",
    "\n",
    "    if not exists(embeddings_path):\n",
    "        mkdir(embeddings_path)\n",
    "    \n",
    "    for image_path in images_path:\n",
    "        image_name = basename(image_path)[:-4]\n",
    "        image = cv2.imread(image_path)\n",
    "        \n",
    "        emb = ort_sess.run(None, {\"input_image\": image.astype(np.float32)})[0]\n",
    "        out_path = join(embeddings_path, f\"{image_name}.npy\")\n",
    "        with open(out_path, 'wb') as f:\n",
    "            np.save(f, emb)\n"
   ]
  },
  {
   "cell_type": "code",
   "execution_count": null,
   "metadata": {},
   "outputs": [],
   "source": [
    "# from os import listdir\n",
    "# from os.path import join\n",
    "# from glob import glob\n",
    "# import matplotlib.pyplot as plt\n",
    "# %matplotlib inline\n",
    "\n",
    "# dirs = listdir(path)\n",
    "# dirs.sort()\n",
    "\n",
    "# for dir in dirs:\n",
    "#     images_paths = glob(join(path, dir, \"*.jpg\"))\n",
    "#     print(images_paths)\n",
    "#     for image_path in images_paths:\n",
    "#         image = cv2.imread(image_path)\n",
    "#         image = cv2.cvtColor(image, cv2.COLOR_BGR2RGB)\n",
    "\n",
    "#         image = cv2.resize(image, (768, 1024), interpolation = cv2.INTER_AREA)\n",
    "#         image = cv2.copyMakeBorder(image, 0, 0, 0, 256, cv2.BORDER_CONSTANT, None, (128, 128, 128))\n",
    "\n",
    "#         plt.imshow(image)\n",
    "#         break\n",
    "#     break"
   ]
  }
 ],
 "metadata": {
  "kernelspec": {
   "display_name": ".venv",
   "language": "python",
   "name": "python3"
  },
  "language_info": {
   "codemirror_mode": {
    "name": "ipython",
    "version": 3
   },
   "file_extension": ".py",
   "mimetype": "text/x-python",
   "name": "python",
   "nbconvert_exporter": "python",
   "pygments_lexer": "ipython3",
   "version": "3.10.12"
  }
 },
 "nbformat": 4,
 "nbformat_minor": 2
}
