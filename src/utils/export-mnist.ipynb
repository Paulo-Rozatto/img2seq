{
 "cells": [
  {
   "cell_type": "markdown",
   "metadata": {},
   "source": [
    "# Export MNIST"
   ]
  },
  {
   "cell_type": "markdown",
   "metadata": {},
   "source": [
    "read images and labels in ubyte format"
   ]
  },
  {
   "cell_type": "code",
   "execution_count": 35,
   "metadata": {},
   "outputs": [],
   "source": [
    "import gzip\n",
    "import numpy as np\n",
    "import struct\n",
    "\n",
    "max_size = 18\n",
    "\n",
    "# images_path = '../../datasets/mnist/t10k-images-idx3-ubyte.gz'\n",
    "# labels_path = '../../datasets/mnist/t10k-labels-idx1-ubyte.gz'\n",
    "# out_path = '../../datasets/mnist/test/'\n",
    "\n",
    "# images_path = '../../datasets/mnist/train-images-idx3-ubyte.gz'\n",
    "# labels_path = '../../datasets/mnist/train-labels-idx1-ubyte.gz'\n",
    "# out_path = '../../datasets/mnist/train/'\n",
    "\n",
    "# https://stackoverflow.com/questions/39969045/parsing-yann-lecuns-mnist-idx-file-format\n",
    "\n",
    "with gzip.open(images_path,'rb') as f:\n",
    "    magic, size = struct.unpack(\">II\", f.read(8))\n",
    "    nrows, ncols = struct.unpack(\">II\", f.read(8))\n",
    "    images = np.frombuffer(f.read(), dtype=np.dtype(np.uint8).newbyteorder('>'))\n",
    "    images = images.reshape((size, nrows, ncols))\n",
    "\n",
    "\n",
    "with gzip.open(labels_path,'rb') as f:\n",
    "    magic, size = struct.unpack(\">II\", f.read(8))\n",
    "    labels = np.frombuffer(f.read(), dtype=np.dtype(np.uint8).newbyteorder('>'))"
   ]
  },
  {
   "cell_type": "markdown",
   "metadata": {},
   "source": [
    "define helper function to generate polygon for the images"
   ]
  },
  {
   "cell_type": "code",
   "execution_count": 36,
   "metadata": {},
   "outputs": [],
   "source": [
    "import cv2\n",
    "\n",
    "\n",
    "def image2poly(image, img_size=28, max_size=10):\n",
    "    cnt, _ = cv2.findContours(\n",
    "        np.array(image), cv2.RETR_EXTERNAL, cv2.CHAIN_APPROX_NONE)\n",
    "    cnt = max(cnt, key=cv2.contourArea)\n",
    "    poly = cv2.approxPolyDP(\n",
    "        cnt, 0.015 * cv2.arcLength(cnt, True), True) / img_size\n",
    "    poly = poly.reshape(-1, 2)[:max_size]\n",
    "\n",
    "    poly = np.c_[np.arange(1, len(poly) + 1) / (len(poly) + 1), poly]\n",
    "    y = np.array([[0, 0, 0]])\n",
    "    z = np.array([[1, poly[0, 1], poly[0, 2]]])\n",
    "    poly = np.r_[y, poly, z]\n",
    "\n",
    "    length = len(poly)\n",
    "    real_size = max_size + 2\n",
    "\n",
    "    for i in range(0, real_size - length):\n",
    "        poly = np.r_[poly, z]\n",
    "\n",
    "    if (len(poly) != real_size):\n",
    "        print(\"Diff\")\n",
    "    return poly, length"
   ]
  },
  {
   "cell_type": "markdown",
   "metadata": {},
   "source": [
    "export images to png"
   ]
  },
  {
   "cell_type": "code",
   "execution_count": 37,
   "metadata": {},
   "outputs": [],
   "source": [
    "from PIL import Image\n",
    "from os.path import join\n",
    "\n",
    "dataset_entries = []\n",
    "\n",
    "idx = 0\n",
    "for image, label in zip(images, labels):\n",
    "    im = Image.fromarray(image)\n",
    "    file_path = join(\"images\", f\"img{idx:05}_{label}.png\")\n",
    "    poly, length = image2poly(image, max_size=max_size)\n",
    "    poly = poly.flatten().tolist()\n",
    "    poly = ','.join(str(n) for n in poly)\n",
    "\n",
    "    dataset_entries.append({\n",
    "        \"file_path\": file_path,\n",
    "        \"label\": label,\n",
    "        \"length\": length,\n",
    "        \"polygon\": poly\n",
    "    })\n",
    "\n",
    "    # im.save(join(out_path, file_path))\n",
    "    idx += 1"
   ]
  },
  {
   "cell_type": "markdown",
   "metadata": {},
   "source": [
    "save label and polygons to csv with an association to the file path they refer to"
   ]
  },
  {
   "cell_type": "code",
   "execution_count": 38,
   "metadata": {},
   "outputs": [],
   "source": [
    "import csv\n",
    "\n",
    "with open(join(out_path, \"polygon-mnist2.csv\"), 'w', newline='') as file: \n",
    "    writer = csv.DictWriter(file, fieldnames = [\"file_path\", \"label\", \"length\", \"polygon\"])\n",
    "    writer.writeheader() \n",
    "    writer.writerows(dataset_entries)"
   ]
  }
 ],
 "metadata": {
  "kernelspec": {
   "display_name": ".venv",
   "language": "python",
   "name": "python3"
  },
  "language_info": {
   "codemirror_mode": {
    "name": "ipython",
    "version": 3
   },
   "file_extension": ".py",
   "mimetype": "text/x-python",
   "name": "python",
   "nbconvert_exporter": "python",
   "pygments_lexer": "ipython3",
   "version": "3.10.12"
  }
 },
 "nbformat": 4,
 "nbformat_minor": 2
}
