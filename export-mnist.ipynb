{
 "cells": [
  {
   "cell_type": "markdown",
   "metadata": {},
   "source": [
    "# Export MNIST"
   ]
  },
  {
   "cell_type": "markdown",
   "metadata": {},
   "source": [
    "read images and labels in ubyte format"
   ]
  },
  {
   "cell_type": "code",
   "execution_count": 16,
   "metadata": {},
   "outputs": [],
   "source": [
    "import gzip\n",
    "import numpy as np\n",
    "import struct\n",
    "\n",
    "images_path = 'mnist/t10k-images-idx3-ubyte.gz'\n",
    "labels_path = 'mnist/t10k-labels-idx1-ubyte.gz'\n",
    "out_path = 'mnist/test/'\n",
    "\n",
    "# images_path = 'mnist/train-images-idx3-ubyte.gz'\n",
    "# labels_path = 'mnist/train-labels-idx1-ubyte.gz'\n",
    "# out_path = 'mnist/train/'\n",
    "\n",
    "# https://stackoverflow.com/questions/39969045/parsing-yann-lecuns-mnist-idx-file-format\n",
    "\n",
    "with gzip.open(images_path,'rb') as f:\n",
    "    magic, size = struct.unpack(\">II\", f.read(8))\n",
    "    nrows, ncols = struct.unpack(\">II\", f.read(8))\n",
    "    images = np.frombuffer(f.read(), dtype=np.dtype(np.uint8).newbyteorder('>'))\n",
    "    images = images.reshape((size, nrows, ncols))\n",
    "\n",
    "\n",
    "with gzip.open(labels_path,'rb') as f:\n",
    "    magic, size = struct.unpack(\">II\", f.read(8))\n",
    "    labels = np.frombuffer(f.read(), dtype=np.dtype(np.uint8).newbyteorder('>'))"
   ]
  },
  {
   "cell_type": "markdown",
   "metadata": {},
   "source": [
    "define helper function to generate polygon for the images"
   ]
  },
  {
   "cell_type": "code",
   "execution_count": 13,
   "metadata": {},
   "outputs": [],
   "source": [
    "import cv2\n",
    "\n",
    "def image2poly(image, img_size = 28, max_size = 10):\n",
    "    cnt, _ = cv2.findContours(np.array(image), cv2.RETR_EXTERNAL, cv2.CHAIN_APPROX_NONE)\n",
    "    cnt = max(cnt, key=cv2.contourArea)\n",
    "    poly = cv2.approxPolyDP(cnt, 0.015 * cv2.arcLength(cnt, True), True) / img_size\n",
    "    poly = poly.reshape(-1, 2)[:max_size]\n",
    "\n",
    "    poly = np.c_[np.arange(1, len(poly) + 1) / (len(poly) + 1), poly]\n",
    "    y = np.array([[0, 0, 0]])\n",
    "    z = np.array([[1, 0, 0]])\n",
    "    poly = np.r_[y, poly, z]\n",
    "    for i in range(0, 12 - len(poly)):\n",
    "        poly = np.r_[poly, z]\n",
    "\n",
    "    if (len(poly) != 12):\n",
    "        print(\"Diff\")\n",
    "    return poly"
   ]
  },
  {
   "cell_type": "markdown",
   "metadata": {},
   "source": [
    "export images to png"
   ]
  },
  {
   "cell_type": "code",
   "execution_count": 17,
   "metadata": {},
   "outputs": [],
   "source": [
    "from PIL import Image\n",
    "from os.path import join\n",
    "\n",
    "dataset_entries = []\n",
    "\n",
    "idx = 0\n",
    "for image, label in zip(images, labels):\n",
    "    im = Image.fromarray(image)\n",
    "    file_path = join(\"images\", f\"img{idx:05}_{label}.png\")\n",
    "    poly = image2poly(image).flatten().tolist()\n",
    "    poly = ','.join(str(n) for n in poly)\n",
    "\n",
    "    dataset_entries.append({\n",
    "        \"file_path\": file_path,\n",
    "        \"label\": label,\n",
    "        \"polygon\": poly\n",
    "    })\n",
    "\n",
    "    im.save(join(out_path, file_path))\n",
    "    idx += 1"
   ]
  },
  {
   "cell_type": "markdown",
   "metadata": {},
   "source": [
    "save label and polygons to csv with an association to the file path they refer to"
   ]
  },
  {
   "cell_type": "code",
   "execution_count": 18,
   "metadata": {},
   "outputs": [],
   "source": [
    "import csv\n",
    "\n",
    "with open(join(out_path, \"polygon-mnist.csv\"), 'w', newline='') as file: \n",
    "    writer = csv.DictWriter(file, fieldnames = [\"file_path\", \"label\", \"polygon\"])\n",
    "    writer.writeheader() \n",
    "    writer.writerows(dataset_entries)"
   ]
  }
 ],
 "metadata": {
  "kernelspec": {
   "display_name": ".venv",
   "language": "python",
   "name": "python3"
  },
  "language_info": {
   "codemirror_mode": {
    "name": "ipython",
    "version": 3
   },
   "file_extension": ".py",
   "mimetype": "text/x-python",
   "name": "python",
   "nbconvert_exporter": "python",
   "pygments_lexer": "ipython3",
   "version": "3.10.12"
  }
 },
 "nbformat": 4,
 "nbformat_minor": 2
}
