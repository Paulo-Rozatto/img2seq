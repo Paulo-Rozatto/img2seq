{
 "cells": [
  {
   "cell_type": "markdown",
   "metadata": {},
   "source": [
    "# Export MNIST"
   ]
  },
  {
   "cell_type": "markdown",
   "metadata": {},
   "source": [
    "read images and labels in ubyte format"
   ]
  },
  {
   "cell_type": "code",
   "execution_count": 102,
   "metadata": {},
   "outputs": [],
   "source": [
    "import numpy as np\n",
    "import struct\n",
    "\n",
    "images_path = 'mnist/train-images-idx3-ubyte/train-images-idx3-ubyte'\n",
    "labels_path = 'mnist/train-labels-idx1-ubyte/train-labels-idx1-ubyte'\n",
    "out_path = 'mnist/train/'\n",
    "\n",
    "# https://stackoverflow.com/questions/39969045/parsing-yann-lecuns-mnist-idx-file-format\n",
    "\n",
    "with open(images_path,'rb') as f:\n",
    "    magic, size = struct.unpack(\">II\", f.read(8))\n",
    "    nrows, ncols = struct.unpack(\">II\", f.read(8))\n",
    "    images = np.fromfile(f, dtype=np.dtype(np.uint8).newbyteorder('>'))\n",
    "    images = images.reshape((size, nrows, ncols))\n",
    "\n",
    "with open(labels_path,'rb') as f:\n",
    "    magic, size = struct.unpack(\">II\", f.read(8))\n",
    "    labels = np.fromfile(f, dtype=np.dtype(np.uint8).newbyteorder('>'))\n",
    "    labels = labels.reshape((size,)) # (Optional)"
   ]
  },
  {
   "cell_type": "markdown",
   "metadata": {},
   "source": [
    "define helper function to generate polygon for the images"
   ]
  },
  {
   "cell_type": "code",
   "execution_count": 104,
   "metadata": {},
   "outputs": [],
   "source": [
    "import cv2\n",
    "\n",
    "def image2poly(image, img_size = 28, max_size = 10):\n",
    "    cnt, _ = cv2.findContours(np.array(image), cv2.RETR_EXTERNAL, cv2.CHAIN_APPROX_NONE)\n",
    "    cnt = max(cnt, key=cv2.contourArea)\n",
    "    poly = cv2.approxPolyDP(cnt, 0.025 * cv2.arcLength(cnt, True), True) / img_size\n",
    "    poly = poly.reshape(-1, 2)[:max_size]\n",
    "    return poly"
   ]
  },
  {
   "cell_type": "markdown",
   "metadata": {},
   "source": [
    "export images to png"
   ]
  },
  {
   "cell_type": "code",
   "execution_count": 105,
   "metadata": {},
   "outputs": [],
   "source": [
    "from PIL import Image\n",
    "from os.path import join\n",
    "\n",
    "dataset_entries = []\n",
    "\n",
    "idx = 0\n",
    "for image, label in zip(images, labels):\n",
    "    im = Image.fromarray(image)\n",
    "    file_path = join(\"images\", f\"img{idx:05}_{label}.png\")\n",
    "    poly = image2poly(image).flatten().tolist()\n",
    "\n",
    "    dataset_entries.append({\n",
    "        \"file_path\": file_path,\n",
    "        \"label\": label,\n",
    "        \"polygon\": poly\n",
    "    })\n",
    "\n",
    "    im.save(join(out_path, file_path))\n",
    "    idx += 1"
   ]
  },
  {
   "cell_type": "markdown",
   "metadata": {},
   "source": [
    "save label and polygons to csv with an association to the file path they refer to"
   ]
  },
  {
   "cell_type": "code",
   "execution_count": 106,
   "metadata": {},
   "outputs": [
    {
     "data": {
      "text/html": [
       "<div>\n",
       "<style scoped>\n",
       "    .dataframe tbody tr th:only-of-type {\n",
       "        vertical-align: middle;\n",
       "    }\n",
       "\n",
       "    .dataframe tbody tr th {\n",
       "        vertical-align: top;\n",
       "    }\n",
       "\n",
       "    .dataframe thead th {\n",
       "        text-align: right;\n",
       "    }\n",
       "</style>\n",
       "<table border=\"1\" class=\"dataframe\">\n",
       "  <thead>\n",
       "    <tr style=\"text-align: right;\">\n",
       "      <th></th>\n",
       "      <th>file_path</th>\n",
       "      <th>label</th>\n",
       "      <th>polygon</th>\n",
       "    </tr>\n",
       "  </thead>\n",
       "  <tbody>\n",
       "    <tr>\n",
       "      <th>0</th>\n",
       "      <td>images/img00000_5.png</td>\n",
       "      <td>5</td>\n",
       "      <td>[0.8214285714285714, 0.17857142857142858, 0.28...</td>\n",
       "    </tr>\n",
       "    <tr>\n",
       "      <th>1</th>\n",
       "      <td>images/img00001_0.png</td>\n",
       "      <td>0</td>\n",
       "      <td>[0.6785714285714286, 0.14285714285714285, 0.53...</td>\n",
       "    </tr>\n",
       "    <tr>\n",
       "      <th>2</th>\n",
       "      <td>images/img00002_4.png</td>\n",
       "      <td>4</td>\n",
       "      <td>[0.7857142857142857, 0.17857142857142858, 0.60...</td>\n",
       "    </tr>\n",
       "    <tr>\n",
       "      <th>3</th>\n",
       "      <td>images/img00003_1.png</td>\n",
       "      <td>1</td>\n",
       "      <td>[0.75, 0.17857142857142858, 0.6071428571428571...</td>\n",
       "    </tr>\n",
       "    <tr>\n",
       "      <th>4</th>\n",
       "      <td>images/img00004_9.png</td>\n",
       "      <td>9</td>\n",
       "      <td>[0.42857142857142855, 0.25, 0.2142857142857142...</td>\n",
       "    </tr>\n",
       "    <tr>\n",
       "      <th>...</th>\n",
       "      <td>...</td>\n",
       "      <td>...</td>\n",
       "      <td>...</td>\n",
       "    </tr>\n",
       "    <tr>\n",
       "      <th>59995</th>\n",
       "      <td>images/img59995_8.png</td>\n",
       "      <td>8</td>\n",
       "      <td>[0.8214285714285714, 0.25, 0.42857142857142855...</td>\n",
       "    </tr>\n",
       "    <tr>\n",
       "      <th>59996</th>\n",
       "      <td>images/img59996_3.png</td>\n",
       "      <td>3</td>\n",
       "      <td>[0.7142857142857143, 0.17857142857142858, 0.39...</td>\n",
       "    </tr>\n",
       "    <tr>\n",
       "      <th>59997</th>\n",
       "      <td>images/img59997_5.png</td>\n",
       "      <td>5</td>\n",
       "      <td>[0.8571428571428571, 0.17857142857142858, 0.35...</td>\n",
       "    </tr>\n",
       "    <tr>\n",
       "      <th>59998</th>\n",
       "      <td>images/img59998_6.png</td>\n",
       "      <td>6</td>\n",
       "      <td>[0.75, 0.07142857142857142, 0.3571428571428571...</td>\n",
       "    </tr>\n",
       "    <tr>\n",
       "      <th>59999</th>\n",
       "      <td>images/img59999_8.png</td>\n",
       "      <td>8</td>\n",
       "      <td>[0.8928571428571429, 0.2857142857142857, 0.464...</td>\n",
       "    </tr>\n",
       "  </tbody>\n",
       "</table>\n",
       "<p>60000 rows × 3 columns</p>\n",
       "</div>"
      ],
      "text/plain": [
       "                   file_path  label  \\\n",
       "0      images/img00000_5.png      5   \n",
       "1      images/img00001_0.png      0   \n",
       "2      images/img00002_4.png      4   \n",
       "3      images/img00003_1.png      1   \n",
       "4      images/img00004_9.png      9   \n",
       "...                      ...    ...   \n",
       "59995  images/img59995_8.png      8   \n",
       "59996  images/img59996_3.png      3   \n",
       "59997  images/img59997_5.png      5   \n",
       "59998  images/img59998_6.png      6   \n",
       "59999  images/img59999_8.png      8   \n",
       "\n",
       "                                                 polygon  \n",
       "0      [0.8214285714285714, 0.17857142857142858, 0.28...  \n",
       "1      [0.6785714285714286, 0.14285714285714285, 0.53...  \n",
       "2      [0.7857142857142857, 0.17857142857142858, 0.60...  \n",
       "3      [0.75, 0.17857142857142858, 0.6071428571428571...  \n",
       "4      [0.42857142857142855, 0.25, 0.2142857142857142...  \n",
       "...                                                  ...  \n",
       "59995  [0.8214285714285714, 0.25, 0.42857142857142855...  \n",
       "59996  [0.7142857142857143, 0.17857142857142858, 0.39...  \n",
       "59997  [0.8571428571428571, 0.17857142857142858, 0.35...  \n",
       "59998  [0.75, 0.07142857142857142, 0.3571428571428571...  \n",
       "59999  [0.8928571428571429, 0.2857142857142857, 0.464...  \n",
       "\n",
       "[60000 rows x 3 columns]"
      ]
     },
     "execution_count": 106,
     "metadata": {},
     "output_type": "execute_result"
    }
   ],
   "source": [
    "import csv\n",
    "\n",
    "with open(join(out_path, \"polygon-mnist.csv\"), 'w', newline='') as file: \n",
    "    writer = csv.DictWriter(file, fieldnames = [\"file_path\", \"label\", \"polygon\"])\n",
    "    writer.writeheader() \n",
    "    writer.writerows(dataset_entries)"
   ]
  }
 ],
 "metadata": {
  "kernelspec": {
   "display_name": ".venv",
   "language": "python",
   "name": "python3"
  },
  "language_info": {
   "codemirror_mode": {
    "name": "ipython",
    "version": 3
   },
   "file_extension": ".py",
   "mimetype": "text/x-python",
   "name": "python",
   "nbconvert_exporter": "python",
   "pygments_lexer": "ipython3",
   "version": "3.10.12"
  }
 },
 "nbformat": 4,
 "nbformat_minor": 2
}
