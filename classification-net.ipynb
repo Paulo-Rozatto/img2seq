{
 "cells": [
  {
   "cell_type": "markdown",
   "metadata": {},
   "source": [
    "## Define network"
   ]
  },
  {
   "cell_type": "code",
   "execution_count": 1,
   "metadata": {},
   "outputs": [],
   "source": [
    "import torch\n",
    "from torch import nn\n",
    "from src.transformers import ViT\n",
    "\n",
    "torch.manual_seed(0)\n",
    "\n",
    "class Net(nn.Module):\n",
    "    def __init__(self, n_classes=10, embed_dim=8):\n",
    "        super(Net, self).__init__()\n",
    "\n",
    "        self.encoder = ViT(embed_dim=embed_dim, n_blocks=2, n_heads=2)\n",
    "        self.mlp = nn.Sequential(\n",
    "            nn.Linear(embed_dim, n_classes),\n",
    "            nn.Softmax(dim=-1)\n",
    "        )\n",
    "\n",
    "    def forward(self, x):\n",
    "        x = self.encoder(x)\n",
    "        x = self.mlp(x[:, 0, :])\n",
    "\n",
    "        return x"
   ]
  },
  {
   "cell_type": "markdown",
   "metadata": {},
   "source": [
    "## Define dataset anda dataloader"
   ]
  },
  {
   "cell_type": "code",
   "execution_count": 2,
   "metadata": {},
   "outputs": [],
   "source": [
    "from src.datasets import PolyMNIST\n",
    "from torch.utils.data import DataLoader\n",
    "from torchvision.transforms import ToTensor\n",
    "\n",
    "train = PolyMNIST(csv_file=\"mnist/train/polygon-mnist.csv\",\n",
    "                  transform=ToTensor(), return_poly=False)\n",
    "\n",
    "test = PolyMNIST(csv_file=\"mnist/test/polygon-mnist.csv\",\n",
    "                  transform=ToTensor(), return_poly=False)\n",
    "\n",
    "train_loader = DataLoader(train, batch_size=60, shuffle=True)\n",
    "test_loader = DataLoader(test, batch_size=60, shuffle=False)"
   ]
  },
  {
   "cell_type": "markdown",
   "metadata": {},
   "source": [
    "## Train"
   ]
  },
  {
   "cell_type": "code",
   "execution_count": 3,
   "metadata": {},
   "outputs": [
    {
     "name": "stdout",
     "output_type": "stream",
     "text": [
      "Using device:  cuda (Quadro M5000)\n"
     ]
    },
    {
     "data": {
      "application/vnd.jupyter.widget-view+json": {
       "model_id": "41d805a266cd41119b5b29135dfed375",
       "version_major": 2,
       "version_minor": 0
      },
      "text/plain": [
       "Training:   0%|          | 0/5 [00:00<?, ?it/s]"
      ]
     },
     "metadata": {},
     "output_type": "display_data"
    },
    {
     "data": {
      "application/vnd.jupyter.widget-view+json": {
       "model_id": "c59a6eee5b424202bb9d48a54f9485a8",
       "version_major": 2,
       "version_minor": 0
      },
      "text/plain": [
       "Last loss: 0.0\n",
       "Epoch 1 in training:   0%|          | 0/1000 [00:00<?, ?it/s]"
      ]
     },
     "metadata": {},
     "output_type": "display_data"
    },
    {
     "name": "stdout",
     "output_type": "stream",
     "text": [
      "Epoch 1/5 loss: 1.84\n"
     ]
    },
    {
     "data": {
      "application/vnd.jupyter.widget-view+json": {
       "model_id": "f3923da894184222a9c3d74c652389e9",
       "version_major": 2,
       "version_minor": 0
      },
      "text/plain": [
       "Last loss: 1.8391025855541234\n",
       "Epoch 2 in training:   0%|          | 0/1000 [00:00<?, ?it/s]"
      ]
     },
     "metadata": {},
     "output_type": "display_data"
    },
    {
     "name": "stdout",
     "output_type": "stream",
     "text": [
      "Epoch 2/5 loss: 1.71\n"
     ]
    },
    {
     "data": {
      "application/vnd.jupyter.widget-view+json": {
       "model_id": "8cbd747add8144e587b9fbfbc669e052",
       "version_major": 2,
       "version_minor": 0
      },
      "text/plain": [
       "Last loss: 1.7120792683362964\n",
       "Epoch 3 in training:   0%|          | 0/1000 [00:00<?, ?it/s]"
      ]
     },
     "metadata": {},
     "output_type": "display_data"
    },
    {
     "name": "stdout",
     "output_type": "stream",
     "text": [
      "Epoch 3/5 loss: 1.64\n"
     ]
    },
    {
     "data": {
      "application/vnd.jupyter.widget-view+json": {
       "model_id": "46423e0c1b5747c8b5f83f6cc0a4cd4d",
       "version_major": 2,
       "version_minor": 0
      },
      "text/plain": [
       "Last loss: 1.6396469342708586\n",
       "Epoch 4 in training:   0%|          | 0/1000 [00:00<?, ?it/s]"
      ]
     },
     "metadata": {},
     "output_type": "display_data"
    },
    {
     "name": "stdout",
     "output_type": "stream",
     "text": [
      "Epoch 4/5 loss: 1.62\n"
     ]
    },
    {
     "data": {
      "application/vnd.jupyter.widget-view+json": {
       "model_id": "b521964333744349a79841e5ef9f6dc6",
       "version_major": 2,
       "version_minor": 0
      },
      "text/plain": [
       "Last loss: 1.6168654135465603\n",
       "Epoch 5 in training:   0%|          | 0/1000 [00:00<?, ?it/s]"
      ]
     },
     "metadata": {},
     "output_type": "display_data"
    },
    {
     "name": "stdout",
     "output_type": "stream",
     "text": [
      "Epoch 5/5 loss: 1.61\n"
     ]
    }
   ],
   "source": [
    "from torch.optim import Adam\n",
    "from torch.nn import CrossEntropyLoss\n",
    "from tqdm.notebook import trange, tqdm\n",
    "\n",
    "N_EPOCHS = 5\n",
    "LR = 0.005\n",
    "\n",
    "device = torch.device(\"cuda\" if torch.cuda.is_available() else \"cpu\")\n",
    "device_name = torch.cuda.get_device_name(\n",
    "    device) if torch.cuda.is_available() else \"cpu\"\n",
    "print(\"Using device: \", device, f\"({device_name})\")\n",
    "\n",
    "model = Net().to(device)\n",
    "optimizer = Adam(model.parameters(), lr=LR)\n",
    "criterion = CrossEntropyLoss()\n",
    "\n",
    "model.train()\n",
    "train_loss = 0.0\n",
    "for epoch in trange(N_EPOCHS, desc=\"Training\"):\n",
    "\n",
    "    desc = f\"Last loss: {train_loss}\\nEpoch {epoch + 1} in training\"\n",
    "\n",
    "    train_loss = 0.0\n",
    "\n",
    "    for batch in tqdm(train_loader, desc=desc, leave=False):\n",
    "        image, label = batch\n",
    "\n",
    "        image = image.to(device)\n",
    "        label = label.to(device)\n",
    "\n",
    "        pred = model(image)\n",
    "        loss = criterion(pred, label)\n",
    "\n",
    "        loss.backward()\n",
    "        optimizer.step()\n",
    "        optimizer.zero_grad()\n",
    "\n",
    "        train_loss += loss.item() / len(train_loader)\n",
    "\n",
    "    print(f\"Epoch {epoch + 1}/{N_EPOCHS} loss: {train_loss:.2f}\")"
   ]
  },
  {
   "cell_type": "code",
   "execution_count": 4,
   "metadata": {},
   "outputs": [
    {
     "data": {
      "application/vnd.jupyter.widget-view+json": {
       "model_id": "f8d0396ea2e74b4598910b5412025e53",
       "version_major": 2,
       "version_minor": 0
      },
      "text/plain": [
       "Testing:   0%|          | 0/167 [00:00<?, ?it/s]"
      ]
     },
     "metadata": {},
     "output_type": "display_data"
    },
    {
     "name": "stdout",
     "output_type": "stream",
     "text": [
      "Test loss: 1.59\n",
      "Test accuracy: 86.65%\n"
     ]
    }
   ],
   "source": [
    "with torch.no_grad():\n",
    "    correct, total = 0, 0\n",
    "    test_loss = 0.0\n",
    "    for batch in tqdm(test_loader, desc=\"Testing\"):\n",
    "        x, y = batch\n",
    "        x, y = x.to(device), y.to(device)\n",
    "        y_hat = model(x)\n",
    "        loss = criterion(y_hat, y)\n",
    "        test_loss += loss.detach().cpu().item() / len(test_loader)\n",
    "\n",
    "        correct += torch.sum(torch.argmax(y_hat, dim=1)\n",
    "                             == y).detach().cpu().item()\n",
    "        total += len(x)\n",
    "    print(f\"Test loss: {test_loss:.2f}\")\n",
    "    print(f\"Test accuracy: {correct / total * 100:.2f}%\")"
   ]
  },
  {
   "cell_type": "markdown",
   "metadata": {},
   "source": [
    "## Save"
   ]
  },
  {
   "cell_type": "code",
   "execution_count": 5,
   "metadata": {},
   "outputs": [],
   "source": [
    "path = \"checkpoints/classification_001.pth\"\n",
    "torch.save(model.state_dict(), path)"
   ]
  }
 ],
 "metadata": {
  "kernelspec": {
   "display_name": ".venv",
   "language": "python",
   "name": "python3"
  },
  "language_info": {
   "codemirror_mode": {
    "name": "ipython",
    "version": 3
   },
   "file_extension": ".py",
   "mimetype": "text/x-python",
   "name": "python",
   "nbconvert_exporter": "python",
   "pygments_lexer": "ipython3",
   "version": "3.10.12"
  }
 },
 "nbformat": 4,
 "nbformat_minor": 2
}
