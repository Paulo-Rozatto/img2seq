{
 "cells": [
  {
   "cell_type": "markdown",
   "metadata": {},
   "source": [
    "## Define network"
   ]
  },
  {
   "cell_type": "code",
   "execution_count": 1,
   "metadata": {},
   "outputs": [],
   "source": [
    "import torch\n",
    "from torch import nn\n",
    "from src.transformers import ViT, Decoder\n",
    "\n",
    "torch.manual_seed(0)\n",
    "\n",
    "\n",
    "class Net(nn.Module):\n",
    "    def __init__(self, embed_dim=8):\n",
    "        super(Net, self).__init__()\n",
    "\n",
    "        self.encoder = ViT(embed_dim=embed_dim, n_blocks=1, n_heads=2)\n",
    "\n",
    "        self.decoder = Decoder(embed_dim=embed_dim,\n",
    "                               n_blocks=1, encoder_dim=embed_dim, n_heads=1)\n",
    "\n",
    "        self.mapper = nn.Linear(3, embed_dim)\n",
    "\n",
    "        self.mlp = nn.Sequential(\n",
    "            nn.Linear(embed_dim, 3),\n",
    "            nn.Sigmoid()\n",
    "        )\n",
    "\n",
    "    def forward(self, x, p, mask=None):\n",
    "        x = self.encoder(x)\n",
    "        p = self.mapper(p)\n",
    "        x = self.decoder(p, x[:, 0, :], mask)\n",
    "        x = self.mlp(x)\n",
    "\n",
    "        return x"
   ]
  },
  {
   "cell_type": "markdown",
   "metadata": {},
   "source": [
    "## Define dataset anda dataloader"
   ]
  },
  {
   "cell_type": "code",
   "execution_count": 2,
   "metadata": {},
   "outputs": [],
   "source": [
    "from src.datasets import PolyMNIST\n",
    "from torch.utils.data import DataLoader\n",
    "from torchvision.transforms import ToTensor\n",
    "\n",
    "train = PolyMNIST(csv_file=\"mnist/train/polygon-mnist.csv\",\n",
    "                  transform=ToTensor())\n",
    "\n",
    "test = PolyMNIST(csv_file=\"mnist/test/polygon-mnist.csv\",\n",
    "                 transform=ToTensor())\n",
    "\n",
    "train_loader = DataLoader(train, batch_size=30, shuffle=True)\n",
    "test_loader = DataLoader(test, batch_size=30, shuffle=False)"
   ]
  },
  {
   "cell_type": "markdown",
   "metadata": {},
   "source": [
    "## Train"
   ]
  },
  {
   "cell_type": "code",
   "execution_count": 3,
   "metadata": {},
   "outputs": [
    {
     "name": "stdout",
     "output_type": "stream",
     "text": [
      "Using device:  cuda (NVIDIA GeForce GTX 1050)\n"
     ]
    },
    {
     "data": {
      "application/vnd.jupyter.widget-view+json": {
       "model_id": "0b020fb5dda74c4b8b20829246064de0",
       "version_major": 2,
       "version_minor": 0
      },
      "text/plain": [
       "Training:   0%|          | 0/5 [00:00<?, ?it/s]"
      ]
     },
     "metadata": {},
     "output_type": "display_data"
    },
    {
     "data": {
      "application/vnd.jupyter.widget-view+json": {
       "model_id": "6fb03c8bc18243c2aeb206a8aa0135d4",
       "version_major": 2,
       "version_minor": 0
      },
      "text/plain": [
       "Epoch 1 in training:   0%|          | 0/2000 [00:00<?, ?it/s]"
      ]
     },
     "metadata": {},
     "output_type": "display_data"
    },
    {
     "name": "stdout",
     "output_type": "stream",
     "text": [
      "Epoch 1/5 loss: 0.0061\n"
     ]
    },
    {
     "data": {
      "application/vnd.jupyter.widget-view+json": {
       "model_id": "d1831130ea494f6b8b87af1f733c77aa",
       "version_major": 2,
       "version_minor": 0
      },
      "text/plain": [
       "Testing:   0%|          | 0/334 [00:00<?, ?it/s]"
      ]
     },
     "metadata": {},
     "output_type": "display_data"
    },
    {
     "name": "stdout",
     "output_type": "stream",
     "text": [
      "Test loss: 0.0065\n"
     ]
    },
    {
     "data": {
      "application/vnd.jupyter.widget-view+json": {
       "model_id": "87406341aeac4114ad6113c1218e21b0",
       "version_major": 2,
       "version_minor": 0
      },
      "text/plain": [
       "Epoch 2 in training:   0%|          | 0/2000 [00:00<?, ?it/s]"
      ]
     },
     "metadata": {},
     "output_type": "display_data"
    },
    {
     "name": "stdout",
     "output_type": "stream",
     "text": [
      "Epoch 2/5 loss: 0.0060\n"
     ]
    },
    {
     "data": {
      "application/vnd.jupyter.widget-view+json": {
       "model_id": "ff290ffdf0674b53a36aa23cda2ceece",
       "version_major": 2,
       "version_minor": 0
      },
      "text/plain": [
       "Testing:   0%|          | 0/334 [00:00<?, ?it/s]"
      ]
     },
     "metadata": {},
     "output_type": "display_data"
    },
    {
     "name": "stdout",
     "output_type": "stream",
     "text": [
      "Test loss: 0.0055\n"
     ]
    },
    {
     "data": {
      "application/vnd.jupyter.widget-view+json": {
       "model_id": "fe58f7eef2924c609dac72deca4d9c0f",
       "version_major": 2,
       "version_minor": 0
      },
      "text/plain": [
       "Epoch 3 in training:   0%|          | 0/2000 [00:00<?, ?it/s]"
      ]
     },
     "metadata": {},
     "output_type": "display_data"
    },
    {
     "name": "stdout",
     "output_type": "stream",
     "text": [
      "Epoch 3/5 loss: 0.0060\n"
     ]
    },
    {
     "data": {
      "application/vnd.jupyter.widget-view+json": {
       "model_id": "a60fbb50879345aba8cf8b509f82e6a3",
       "version_major": 2,
       "version_minor": 0
      },
      "text/plain": [
       "Testing:   0%|          | 0/334 [00:00<?, ?it/s]"
      ]
     },
     "metadata": {},
     "output_type": "display_data"
    },
    {
     "name": "stdout",
     "output_type": "stream",
     "text": [
      "Test loss: 0.0056\n"
     ]
    },
    {
     "data": {
      "application/vnd.jupyter.widget-view+json": {
       "model_id": "42fd024ad91941a2ab4fa2a4dcb39284",
       "version_major": 2,
       "version_minor": 0
      },
      "text/plain": [
       "Epoch 4 in training:   0%|          | 0/2000 [00:00<?, ?it/s]"
      ]
     },
     "metadata": {},
     "output_type": "display_data"
    },
    {
     "name": "stdout",
     "output_type": "stream",
     "text": [
      "Epoch 4/5 loss: 0.0060\n"
     ]
    },
    {
     "data": {
      "application/vnd.jupyter.widget-view+json": {
       "model_id": "e5cc9fd6a9ca4fa5a0129730132e49bb",
       "version_major": 2,
       "version_minor": 0
      },
      "text/plain": [
       "Testing:   0%|          | 0/334 [00:00<?, ?it/s]"
      ]
     },
     "metadata": {},
     "output_type": "display_data"
    },
    {
     "name": "stdout",
     "output_type": "stream",
     "text": [
      "Test loss: 0.0058\n"
     ]
    },
    {
     "data": {
      "application/vnd.jupyter.widget-view+json": {
       "model_id": "40775cbd49f94bf8b59ca336099fbafa",
       "version_major": 2,
       "version_minor": 0
      },
      "text/plain": [
       "Epoch 5 in training:   0%|          | 0/2000 [00:00<?, ?it/s]"
      ]
     },
     "metadata": {},
     "output_type": "display_data"
    },
    {
     "name": "stdout",
     "output_type": "stream",
     "text": [
      "Epoch 5/5 loss: 0.0060\n"
     ]
    },
    {
     "data": {
      "application/vnd.jupyter.widget-view+json": {
       "model_id": "cc03d4c000254217bf8a362a5658295a",
       "version_major": 2,
       "version_minor": 0
      },
      "text/plain": [
       "Testing:   0%|          | 0/334 [00:00<?, ?it/s]"
      ]
     },
     "metadata": {},
     "output_type": "display_data"
    },
    {
     "name": "stdout",
     "output_type": "stream",
     "text": [
      "Test loss: 0.0059\n"
     ]
    }
   ],
   "source": [
    "from torch.optim import Adam\n",
    "from torch.nn import MSELoss\n",
    "from tqdm.notebook import trange, tqdm\n",
    "import torch\n",
    "\n",
    "N_EPOCHS = 5\n",
    "LR = 0.001\n",
    "\n",
    "device = torch.device(\"cuda\" if torch.cuda.is_available() else \"cpu\")\n",
    "device_name = torch.cuda.get_device_name(\n",
    "    device) if torch.cuda.is_available() else \"cpu\"\n",
    "print(\"Using device: \", device, f\"({device_name})\")\n",
    "\n",
    "mask = torch.tril(torch.ones(12, 12)).view(1, 12, 12).to(device)\n",
    "\n",
    "model = Net().to(device)\n",
    "optimizer = Adam(model.parameters(), lr=LR)\n",
    "criterion = MSELoss()\n",
    "\n",
    "model.load_state_dict(torch.load(\"checkpoints/poly_mask_001.pth\"))\n",
    "\n",
    "train_loss = 0.0\n",
    "for epoch in trange(N_EPOCHS, desc=\"Training\"):\n",
    "    model.train()\n",
    "\n",
    "    train_loss = 0.0\n",
    "\n",
    "    for batch in tqdm(train_loader, desc=f\"Epoch {epoch + 1} in training\", leave=False):\n",
    "        image, _, polygon = batch\n",
    "\n",
    "        image = image.to(device)\n",
    "        polygon = polygon.to(device)\n",
    "\n",
    "        pred = model(image, polygon, mask)\n",
    "        loss = criterion(pred[:, :-1, :], polygon[:, 1:, :])\n",
    "\n",
    "        loss.backward()\n",
    "        optimizer.step()\n",
    "        optimizer.zero_grad()\n",
    "\n",
    "        train_loss += loss.item() / len(train_loader)\n",
    "\n",
    "    print(f\"Epoch {epoch + 1}/{N_EPOCHS} loss: {train_loss:.4f}\")\n",
    "\n",
    "    with torch.no_grad():\n",
    "        correct, total = 0, 0\n",
    "        test_loss = 0.0\n",
    "        model.eval()\n",
    "        for batch in tqdm(test_loader, desc=\"Testing\"):\n",
    "            x, _, p = batch\n",
    "            x, p = x.to(device), p.to(device)\n",
    "\n",
    "            pred = model(image, polygon, mask)\n",
    "            loss = criterion(pred[:, :-1, :], polygon[:, 1:, :])\n",
    "\n",
    "            test_loss += loss.detach().cpu().item() / len(test_loader)\n",
    "\n",
    "            # correct += torch.sum(torch.argmax(y_hat, dim=1)\n",
    "            #                      == y).detach().cpu().item()\n",
    "            total += len(x)\n",
    "        print(f\"Test loss: {test_loss:.4f}\")\n",
    "    # print(f\"Test accuracy: {correct / total * 100:.2f}%\")"
   ]
  },
  {
   "cell_type": "markdown",
   "metadata": {},
   "source": [
    "## Show"
   ]
  },
  {
   "cell_type": "code",
   "execution_count": 4,
   "metadata": {},
   "outputs": [],
   "source": [
    "import matplotlib.pyplot as plt\n",
    "import numpy as np\n",
    "import cv2\n",
    "%matplotlib inline\n",
    "\n",
    "def subplot(fig, rows, cols, pos, title, img_tensor, poly_tensor):\n",
    "    image = img_tensor.cpu().numpy() * 255\n",
    "\n",
    "    out = np.zeros((28,28, 3))\n",
    "    out[:,:, 1] = np.copy(image)\n",
    "\n",
    "    poly_tensor = poly_tensor[1:]\n",
    "    filter1 = poly_tensor[:, 0] < 1.0\n",
    "    poly_tensor = poly_tensor[filter1]\n",
    "\n",
    "    poly = poly_tensor.cpu().numpy()\n",
    "    poly = np.delete(poly, 0, 1).reshape(-1, 1, 2) * 28\n",
    "    poly = poly.astype(np.int32)\n",
    "    \n",
    "    out = cv2.polylines(out, [poly], True, (255,0,0), 1)\n",
    "\n",
    "    subplot.counter += 1\n",
    "    fig.add_subplot(rows, cols, pos)\n",
    "    plt.imshow(out.astype(np.uint8))\n",
    "    plt.axis('off')\n",
    "    plt.title(title)\n"
   ]
  },
  {
   "cell_type": "code",
   "execution_count": 7,
   "metadata": {},
   "outputs": [
    {
     "data": {
      "image/png": "[encoded data removed]",
      "text/plain": [
       "<Figure size 1000x400 with 10 Axes>"
      ]
     },
     "metadata": {},
     "output_type": "display_data"
    }
   ],
   "source": [
    "batch_images, _, poly = next(iter(test_loader))\n",
    "\n",
    "fig = plt.figure(figsize=(10, 4))\n",
    "idx_range = 5\n",
    "subplot.counter = 0\n",
    "\n",
    "for idx in range(idx_range):\n",
    "    with torch.no_grad():\n",
    "        model.eval()\n",
    "        inputs = torch.zeros(1, 1, 3).to(device)\n",
    "        image = batch_images[idx].reshape(1, 1, 28, 28).to(device)\n",
    "\n",
    "        for i in range(11):\n",
    "            pred = model(image, inputs, mask[:, :i + 1, :i + 1])\n",
    "\n",
    "            if (pred[0, -1, 0] > 0.95):\n",
    "                break\n",
    "            \n",
    "            inputs = torch.cat((inputs, pred[:, -1, :].view(1, 1, -1)), dim=1)\n",
    "    pos_gt = idx + 1\n",
    "    pos_pred = idx + 1 + idx_range\n",
    "    subplot(fig, 2, idx_range, pos_gt, \"Ground truth\", batch_images[idx, 0], poly[idx])\n",
    "    subplot(fig, 2, idx_range, pos_pred, \"Prediction\", batch_images[idx, 0], inputs[0])\n",
    "\n",
    "plt.show()\n"
   ]
  },
  {
   "cell_type": "markdown",
   "metadata": {},
   "source": [
    "## Save"
   ]
  },
  {
   "cell_type": "code",
   "execution_count": 6,
   "metadata": {},
   "outputs": [],
   "source": [
    "path = \"checkpoints/poly_mask_002.pth\"\n",
    "torch.save(model.state_dict(), path)"
   ]
  }
 ],
 "metadata": {
  "kernelspec": {
   "display_name": ".venv",
   "language": "python",
   "name": "python3"
  },
  "language_info": {
   "codemirror_mode": {
    "name": "ipython",
    "version": 3
   },
   "file_extension": ".py",
   "mimetype": "text/x-python",
   "name": "python",
   "nbconvert_exporter": "python",
   "pygments_lexer": "ipython3",
   "version": "3.10.12"
  }
 },
 "nbformat": 4,
 "nbformat_minor": 2
}
